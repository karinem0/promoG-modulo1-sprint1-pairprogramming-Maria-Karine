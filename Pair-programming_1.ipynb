{
 "cells": [
  {
   "cell_type": "markdown",
   "metadata": {},
   "source": [
    "# Pair programming Sentencias de Control\n",
    "- bucles for, list comprehension y try ..except\n",
    "- Ejericios bucles for\n",
    "\n",
    "1. Imprimir los números del 1 al 5 utilizando un bucle for\n",
    "Descripción: Utiliza un bucle for para imprimir los números del 1 al 5 (incluido) en orden ascendente.\n"
   ]
  },
  {
   "cell_type": "code",
   "execution_count": 1,
   "metadata": {},
   "outputs": [
    {
     "name": "stdout",
     "output_type": "stream",
     "text": [
      "0\n",
      "-----------\n",
      "1\n",
      "-----------\n",
      "2\n",
      "-----------\n",
      "3\n",
      "-----------\n",
      "4\n",
      "-----------\n",
      "5\n",
      "-----------\n"
     ]
    }
   ],
   "source": [
    "\n",
    "for numero in range(6):\n",
    "    print(numero)\n",
    "    print('-----------')\n",
    "    "
   ]
  },
  {
   "cell_type": "markdown",
   "metadata": {},
   "source": [
    "2.  Calcular la suma de los primeros 10 números naturales utilizando un bucle for\n",
    "Descripción: Utiliza un bucle for para calcular la suma de los primeros 10 números naturales (1 + 2 + 3 + ... + 10).\n"
   ]
  },
  {
   "cell_type": "code",
   "execution_count": 7,
   "metadata": {},
   "outputs": [
    {
     "name": "stdout",
     "output_type": "stream",
     "text": [
      "1\n",
      "-------------\n",
      "2\n",
      "-------------\n",
      "3\n",
      "-------------\n",
      "4\n",
      "-------------\n",
      "5\n",
      "-------------\n",
      "6\n",
      "-------------\n",
      "7\n",
      "-------------\n",
      "8\n",
      "-------------\n",
      "9\n",
      "-------------\n",
      "10\n",
      "-------------\n"
     ]
    },
    {
     "data": {
      "text/plain": [
       "55"
      ]
     },
     "execution_count": 7,
     "metadata": {},
     "output_type": "execute_result"
    }
   ],
   "source": [
    "lista_numeros= []\n",
    "for numero in range(1,11):\n",
    "    print(numero)\n",
    "    print('-------------')\n",
    "    lista_numeros.append(numero)\n",
    "\n",
    "lista_numeros\n",
    "sum(lista_numeros)\n",
    "# Insertar otro for, seria posible como solucion? \n",
    "\n",
    "    \n",
    "    "
   ]
  },
  {
   "cell_type": "markdown",
   "metadata": {},
   "source": [
    "3. Calcular el producto de los elementos de una lista\n",
    "Descripción: Dada una lista de números, utiliza un bucle for para calcular el producto de todos los elementos.\n"
   ]
  },
  {
   "cell_type": "code",
   "execution_count": 13,
   "metadata": {},
   "outputs": [],
   "source": [
    "numeros= [1,2,3,4,5,6,7,8,9,10]\n",
    "def productos(numeros):\n",
    "    for i in range(len(numeros)):\n",
    "        print(numeros)\n",
    "        primero, resto = numeros[i], numeros[i+1:]\n",
    "        for n in resto:\n",
    "            yield primero*n"
   ]
  },
  {
   "cell_type": "code",
   "execution_count": 10,
   "metadata": {},
   "outputs": [
    {
     "name": "stdout",
     "output_type": "stream",
     "text": [
      "[(1, 9, 9), (1, 7, 7), (1, 5, 5), (1, 9, 9), (9, 7, 63), (9, 5, 45), (9, 9, 81), (7, 5, 35), (7, 9, 63), (5, 9, 45)]\n"
     ]
    }
   ],
   "source": [
    "Num = [1, 9, 7, 5, 9]\n",
    "\n",
    "resultados = []\n",
    "# Recorremos todos los elementos de la lista, será el multiplicando\n",
    "for n in range(len(Num)):\n",
    "    # Recorremos los elementos siguientes después de n (Usando slices), será el multiplicador\n",
    "    for m in Num[n+1:]:\n",
    "        # Creamos una tupla donde mostramos el valor del índice n, el valor de m y la multiplicación de n*m\n",
    "        # Es decir (multiplicando, multiplicador, producto)\n",
    "        resultados.append((Num[n], m, Num[n] * m))\n",
    "print(resultados)"
   ]
  },
  {
   "cell_type": "code",
   "execution_count": 9,
   "metadata": {},
   "outputs": [
    {
     "name": "stdout",
     "output_type": "stream",
     "text": [
      "1\n",
      "----------------\n",
      "2\n",
      "----------------\n",
      "3\n",
      "----------------\n",
      "4\n",
      "----------------\n",
      "5\n",
      "----------------\n",
      "6\n",
      "----------------\n",
      "7\n",
      "----------------\n",
      "8\n",
      "----------------\n",
      "9\n",
      "----------------\n",
      "10\n",
      "----------------\n",
      "[1, 2, 3, 4, 5, 6, 7, 8, 9, 10]\n"
     ]
    },
    {
     "data": {
      "text/plain": [
       "55"
      ]
     },
     "execution_count": 9,
     "metadata": {},
     "output_type": "execute_result"
    }
   ],
   "source": [
    "lista_numeros2= []\n",
    "def productos(numero)):\n",
    "    for numero in range(1,11):\n",
    "    print(numero)\n",
    "    print('----------------')\n",
    "    lista_numeros2.append(numero)\n",
    "\n",
    "\n",
    "print(lista_numeros2)\n"
   ]
  },
  {
   "cell_type": "markdown",
   "metadata": {},
   "source": [
    "4. Imprimir los caracteres de una cadena de texto\n",
    "Descripción: Dada una cadena de texto, utiliza un bucle for para imprimir cada carácter en una línea separada.\n"
   ]
  },
  {
   "cell_type": "code",
   "execution_count": null,
   "metadata": {},
   "outputs": [],
   "source": [
    "texto_separado= texto.split()\n",
    "print(texto_separado)"
   ]
  },
  {
   "cell_type": "code",
   "execution_count": 8,
   "metadata": {},
   "outputs": [
    {
     "name": "stdout",
     "output_type": "stream",
     "text": [
      "Hola,\n",
      "------------\n",
      "buenos\n",
      "------------\n",
      "días\n",
      "------------\n"
     ]
    }
   ],
   "source": [
    "cadena= 'Hola, buenos días'\n",
    "\n",
    "for caracter in cadena.split():\n",
    "    print(caracter)\n",
    "    print('------------')\n",
    "    "
   ]
  },
  {
   "cell_type": "markdown",
   "metadata": {},
   "source": [
    "5. Imprimir los números pares del 1 al 100 utilizando un bucle for\n",
    "Descripción: Utiliza un bucle for para imprimir los números pares del 1 al 100 en orden ascendente.\n"
   ]
  },
  {
   "cell_type": "code",
   "execution_count": 12,
   "metadata": {},
   "outputs": [
    {
     "name": "stdout",
     "output_type": "stream",
     "text": [
      "2\n",
      "----------\n",
      "4\n",
      "----------\n",
      "6\n",
      "----------\n",
      "8\n",
      "----------\n",
      "10\n",
      "----------\n",
      "12\n",
      "----------\n",
      "14\n",
      "----------\n",
      "16\n",
      "----------\n",
      "18\n",
      "----------\n",
      "20\n",
      "----------\n",
      "22\n",
      "----------\n",
      "24\n",
      "----------\n",
      "26\n",
      "----------\n",
      "28\n",
      "----------\n",
      "30\n",
      "----------\n",
      "32\n",
      "----------\n",
      "34\n",
      "----------\n",
      "36\n",
      "----------\n",
      "38\n",
      "----------\n",
      "40\n",
      "----------\n",
      "42\n",
      "----------\n",
      "44\n",
      "----------\n",
      "46\n",
      "----------\n",
      "48\n",
      "----------\n",
      "50\n",
      "----------\n",
      "52\n",
      "----------\n",
      "54\n",
      "----------\n",
      "56\n",
      "----------\n",
      "58\n",
      "----------\n",
      "60\n",
      "----------\n",
      "62\n",
      "----------\n",
      "64\n",
      "----------\n",
      "66\n",
      "----------\n",
      "68\n",
      "----------\n",
      "70\n",
      "----------\n",
      "72\n",
      "----------\n",
      "74\n",
      "----------\n",
      "76\n",
      "----------\n",
      "78\n",
      "----------\n",
      "80\n",
      "----------\n",
      "82\n",
      "----------\n",
      "84\n",
      "----------\n",
      "86\n",
      "----------\n",
      "88\n",
      "----------\n",
      "90\n",
      "----------\n",
      "92\n",
      "----------\n",
      "94\n",
      "----------\n",
      "96\n",
      "----------\n",
      "98\n",
      "----------\n",
      "100\n",
      "----------\n"
     ]
    }
   ],
   "source": [
    "for numero in range(2,101, 2):\n",
    "    print(numero)\n",
    "    print('----------')\n",
    "    \n",
    "    "
   ]
  },
  {
   "cell_type": "markdown",
   "metadata": {},
   "source": [
    "6. Imprimir los números primos del 1 al 50 utilizando un bucle for\n",
    "Descripción: Utiliza un bucle for para imprimir los números primos del 1 al 50 en orden ascendente.\n",
    "NOTA: Según la Wikipedia, un número primo es un número natural mayor que 1 que no tiene divisores positivos más que 1 y él mismo.\n"
   ]
  },
  {
   "cell_type": "code",
   "execution_count": null,
   "metadata": {},
   "outputs": [],
   "source": [
    "if numero > 1:\n",
    "    print(numero primo)\n",
    "\n",
    "if numero % 1 == 0 and numero/numero == 1 \n",
    "\n",
    "else: \n",
    "    print('es numero primo')"
   ]
  },
  {
   "cell_type": "code",
   "execution_count": null,
   "metadata": {},
   "outputs": [],
   "source": [
    "for numero in range(2,51):\n",
    "    if numero != "
   ]
  },
  {
   "cell_type": "markdown",
   "metadata": {},
   "source": [
    "7. Calcular el factorial de un número utilizando un bucle for\n",
    "Descripción: Dado un número entero positivo, calcula su factorial utilizando un bucle for.\n"
   ]
  },
  {
   "cell_type": "code",
   "execution_count": null,
   "metadata": {},
   "outputs": [],
   "source": []
  },
  {
   "cell_type": "markdown",
   "metadata": {},
   "source": [
    "8. Juego de adivinar palabras utilizando un bucle for\n",
    "Descripción: Crea un juego en el que el jugador debe adivinar una palabra secreta. El jugador tiene un número limitado de intentos y se le proporcionan pistas después de cada intento. Utiliza un bucle for para controlar los intentos del jugador.\n"
   ]
  },
  {
   "cell_type": "code",
   "execution_count": null,
   "metadata": {},
   "outputs": [],
   "source": []
  },
  {
   "cell_type": "markdown",
   "metadata": {},
   "source": [
    "- Ejercicios list comprehension\n",
    "1. Generar una lista de los números pares del 1 al 20.\n",
    "Descripción: Utiliza list comprehension para generar una lista que contenga todos los números pares en el rango del 1 al 20.\n"
   ]
  },
  {
   "cell_type": "code",
   "execution_count": null,
   "metadata": {},
   "outputs": [],
   "source": []
  },
  {
   "cell_type": "markdown",
   "metadata": {},
   "source": [
    "2. Obtener una lista de las vocales en una cadena de texto.\n",
    "Descripción: Utiliza list comprehension para crear una lista que contenga todas las vocales presentes en una cadena de texto (sin repetición).\n"
   ]
  },
  {
   "cell_type": "code",
   "execution_count": null,
   "metadata": {},
   "outputs": [],
   "source": []
  },
  {
   "cell_type": "markdown",
   "metadata": {},
   "source": [
    "3. Filtrar los números positivos de una lista y calcular su cuadrado.\n",
    "Descripción: Utiliza list comprehension para filtrar los números positivos de una lista y calcular el cuadrado de cada uno.\n"
   ]
  },
  {
   "cell_type": "code",
   "execution_count": null,
   "metadata": {},
   "outputs": [],
   "source": []
  },
  {
   "cell_type": "markdown",
   "metadata": {},
   "source": [
    "- Ejercicios try ...except\n",
    "1. Realizar una búsqueda en una lista y capturar una excepción en caso de valor no encontrado.\n",
    "Descripción: Solicita al usuario una lista de nombres y un nombre para buscar en la lista. Intenta encontrar el nombre en la lista y utiliza las sentencias try y except para capturar la excepción en caso de que el nombre no sea encontrado."
   ]
  },
  {
   "cell_type": "code",
   "execution_count": null,
   "metadata": {},
   "outputs": [],
   "source": []
  }
 ],
 "metadata": {
  "kernelspec": {
   "display_name": "base",
   "language": "python",
   "name": "python3"
  },
  "language_info": {
   "codemirror_mode": {
    "name": "ipython",
    "version": 3
   },
   "file_extension": ".py",
   "mimetype": "text/x-python",
   "name": "python",
   "nbconvert_exporter": "python",
   "pygments_lexer": "ipython3",
   "version": "3.9.7"
  }
 },
 "nbformat": 4,
 "nbformat_minor": 2
}
