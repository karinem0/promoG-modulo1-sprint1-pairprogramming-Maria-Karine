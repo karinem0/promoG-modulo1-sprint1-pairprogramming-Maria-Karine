{
 "cells": [
  {
   "cell_type": "markdown",
   "metadata": {},
   "source": [
    "# Pair programming Expresiones Regulares\n",
    "\n",
    "1. Validar un número de teléfono.\n",
    "Descripción: Verificar si una cadena representa un número de teléfono válido en el formato (XXX) XXX-XXXX.\n",
    "Probad para cada uno de los teléfonos que tenemos en la siguiente lista:\n",
    "telefonos = [\"(123) 456-7890\", \"178 1890-733\", \"(555) 238-1987\", \"(123) 4560-7890\", \"(ABC) 098-1111\"]\n"
   ]
  },
  {
   "cell_type": "code",
   "execution_count": 1,
   "metadata": {},
   "outputs": [],
   "source": [
    "import re   "
   ]
  },
  {
   "cell_type": "code",
   "execution_count": 2,
   "metadata": {},
   "outputs": [
    {
     "name": "stdout",
     "output_type": "stream",
     "text": [
      "(123) 456-7890 tu número es válido\n",
      "tu número no es válido\n",
      "(555) 238-1987 tu número es válido\n",
      "tu número no es válido\n",
      "tu número no es válido\n"
     ]
    }
   ],
   "source": [
    "\n",
    "telefonos = [\"(123) 456-7890\", \"178 1890-733\", \"(555) 238-1987\", \"(123) 4560-7890\", \"(ABC) 098-1111\"]\n",
    "\n",
    "patron = \"\\(\\d{3}\\) \\d{3}-\\d{4}\"\n",
    "\n",
    "\n",
    "for telefono in telefonos:\n",
    "    \n",
    "    if re.match(patron, telefono):\n",
    "        print(telefono,\"tu número es válido\")\n",
    "    else:\n",
    "        print(\"tu número no es válido\")\n",
    "        \n",
    "\n"
   ]
  },
  {
   "cell_type": "code",
   "execution_count": 3,
   "metadata": {},
   "outputs": [
    {
     "name": "stdout",
     "output_type": "stream",
     "text": [
      "(123) 456-7890 es  válido\n",
      "178 1890-733 es inválido\n",
      "(555) 238-1987 es  válido\n",
      "(123) 4560-7890 es inválido\n",
      "(ABC) 098-1111 es inválido\n"
     ]
    }
   ],
   "source": [
    "telefonos = [\"(123) 456-7890\", \"178 1890-733\", \"(555) 238-1987\", \"(123) 4560-7890\", \"(ABC) 098-1111\"]\n",
    "\n",
    "for telefono in telefonos:\n",
    "    resultado = re.match(r'^\\(\\d{3}\\) \\d{3}-\\d{4}$', telefono)\n",
    "    if resultado:\n",
    "        print(f\"{telefono} es  válido\")\n",
    "    else:\n",
    "        print(f\"{telefono} es inválido\")"
   ]
  },
  {
   "cell_type": "markdown",
   "metadata": {},
   "source": [
    "\n",
    "2. Buscar todas las direcciones de correo electrónico en un texto.\n",
    "Descripción: Encontrar todas las direcciones de correo electrónico presentes en una cadena de texto.\n",
    "Probad con el siguiente string:\n",
    "texto = \"Mi correo es user@example.com. Contacta conmigo en john.doe@email.com\"\n"
   ]
  },
  {
   "cell_type": "code",
   "execution_count": null,
   "metadata": {},
   "outputs": [],
   "source": [
    "texto = \"Mi correo es user@example.com. Contacta conmigo en john.doe@email.com\""
   ]
  },
  {
   "cell_type": "code",
   "execution_count": null,
   "metadata": {},
   "outputs": [],
   "source": [
    "texto = \"Mi correo es user@example.com. Contacta conmigo en john.doe@email.com\"\n",
    "patron_correo = r'[\\w._%+-]+@[\\w.-]+\\.[a-zA-Z]{2,4}'\n",
    "\n",
    "resultado = re.findall(patron_correo, texto)\n",
    "print(resultado) "
   ]
  },
  {
   "cell_type": "markdown",
   "metadata": {},
   "source": [
    "\n",
    "3. Validar un código postal.\n",
    "Descripción: Verificar si una cadena representa un código postal válido de 5 dígitos.\n",
    "Probad para cada uno de los códigos postales que tenemos en la siguiente lista:\n",
    "codigos_postales = [\"12345\", \"190037\", \"78409\", \"986449\", \"19305\"]\n"
   ]
  },
  {
   "cell_type": "code",
   "execution_count": 18,
   "metadata": {},
   "outputs": [],
   "source": [
    "codigos_postales = [\"12345\", \"190037\", \"78409\", \"986449\", \"19305\"]"
   ]
  },
  {
   "cell_type": "code",
   "execution_count": 28,
   "metadata": {},
   "outputs": [],
   "source": [
    "patron3 = \"^\\d{5}$\""
   ]
  },
  {
   "cell_type": "code",
   "execution_count": 31,
   "metadata": {},
   "outputs": [],
   "source": [
    "re.search(patron3, \"986449\")"
   ]
  },
  {
   "cell_type": "markdown",
   "metadata": {},
   "source": [
    "***Forma Primera***"
   ]
  },
  {
   "cell_type": "code",
   "execution_count": 39,
   "metadata": {},
   "outputs": [
    {
     "data": {
      "text/plain": [
       "['12345', '78409', '19305']"
      ]
     },
     "execution_count": 39,
     "metadata": {},
     "output_type": "execute_result"
    }
   ],
   "source": [
    "codigos_validos = []\n",
    "\n",
    "for cod in codigos_postales:\n",
    "    \n",
    "    objetivo = re.findall(patron3, cod)\n",
    "    \n",
    "    if len(objetivo) != 0:\n",
    "\n",
    "        codigos_validos.append(objetivo[0])\n",
    "\n",
    "codigos_validos"
   ]
  },
  {
   "cell_type": "markdown",
   "metadata": {},
   "source": [
    "***Forma Segunda***"
   ]
  },
  {
   "cell_type": "code",
   "execution_count": 40,
   "metadata": {},
   "outputs": [
    {
     "data": {
      "text/plain": [
       "['12345', '78409', '19305']"
      ]
     },
     "execution_count": 40,
     "metadata": {},
     "output_type": "execute_result"
    }
   ],
   "source": [
    "codigos_validos = []\n",
    "\n",
    "for cod in codigos_postales:\n",
    "    \n",
    "    objetivo = re.findall(patron3, cod)\n",
    "    codigos_validos.extend(objetivo)\n",
    "\n",
    "codigos_validos"
   ]
  },
  {
   "cell_type": "markdown",
   "metadata": {},
   "source": [
    "\n",
    "4. Encontrar todas las palabras que comienzan con una vocal en un texto.\n",
    "Descripción: Encontrar todas las palabras en un texto que comienzan con una vocal (a, e, i, o, u).\n",
    "Probad con el siguiente string:\n",
    "texto = \"El perro está ladrando. Ana tiene una manzana. La casa es grande.\"\n"
   ]
  },
  {
   "cell_type": "code",
   "execution_count": null,
   "metadata": {},
   "outputs": [],
   "source": [
    "texto = \"El perro está ladrando. Ana tiene una manzana. La casa es grande.\""
   ]
  },
  {
   "cell_type": "code",
   "execution_count": null,
   "metadata": {},
   "outputs": [],
   "source": [
    "texto = \"El perro está ladrando. Ana tiene una manzana. La casa es grande.\"\n",
    "patron = r'\\b[aeiouAEIOU]\\w*\\b'\n",
    "resultado = re.findall(patron, texto)\n",
    "\n",
    "if resultado:\n",
    "    print(f'Se encontraron las siguientes palabras en el texto: {resultado}')\n",
    "    \n",
    "else:\n",
    "    print('No se encontraron palabras en el texto')"
   ]
  },
  {
   "cell_type": "markdown",
   "metadata": {},
   "source": [
    "\n",
    "5. Extraer todos los hashtags de un texto.\n",
    "Descripción: Extraer todos los hashtags (#) presentes en una cadena de texto.\n",
    "Probad con el siguiente string:\n",
    "texto = \"Me encanta el #deporte. #FelizViernes a todos. Estoy en la conferencia #Tech2022.\"\n"
   ]
  },
  {
   "cell_type": "code",
   "execution_count": null,
   "metadata": {},
   "outputs": [],
   "source": [
    "texto = \"Me encanta el #deporte. #FelizViernes a todos. Estoy en la conferencia #Tech2022.\""
   ]
  },
  {
   "cell_type": "code",
   "execution_count": null,
   "metadata": {},
   "outputs": [],
   "source": [
    "texto = \"Me encanta el #deporte. #FelizViernes a todos. Estoy en la conferencia #Tech2022.\"\n",
    "patron = r'\\#\\w*'\n",
    "resultado = re.findall(patron, texto)\n",
    "if resultado:\n",
    "    print(f'Se encontraron los siguientes hashtags:{resultado}')\n",
    "else: \n",
    "    print('No se han encontrado hashtags en el texto')"
   ]
  },
  {
   "cell_type": "markdown",
   "metadata": {},
   "source": [
    "\n",
    "6. Buscar todos los números decimales en una cadena de texto.\n",
    "Descripción: Encontrar todos los números decimales presentes en una cadena de texto.\n",
    "Probad con el siguiente string:\n",
    "texto = \"El precio es $19.99. La temperatura es 25.5°C. El índice de inflación es del 2.5%.\"  \n"
   ]
  },
  {
   "cell_type": "code",
   "execution_count": null,
   "metadata": {},
   "outputs": [],
   "source": [
    "texto = \"El precio es $19.99. La temperatura es 25.5°C. El índice de inflación es del 2.5%.\" "
   ]
  },
  {
   "cell_type": "code",
   "execution_count": null,
   "metadata": {},
   "outputs": [],
   "source": [
    "texto = \"El precio es $19.99. La temperatura es 25.5°C. El índice de inflación es del 2.5%.\"\n",
    "patron_decimales = r'\\b\\d+\\.\\d+\\b'\n",
    "resultado = re.findall(patron_decimales, texto)\n",
    "if resultado:\n",
    "    print(f'Se encontraron los siguientes decimales: {resultado}')\n",
    "else: \n",
    "    print('No se encontraron decimales en el texto')\n"
   ]
  },
  {
   "cell_type": "markdown",
   "metadata": {},
   "source": [
    "\n",
    "7. Validar un nombre de usuario.\n",
    "Descripción: Verificar si una cadena representa un nombre de usuario válido, que contiene solo letras minúsculas, números y guiones bajos (_).\n",
    "Probad con la siguiente lista de usuarios:\n",
    "lista_usuarios = [\"juan_doe123\", \"lola_12\", \"Aurora_23\", \"12marta_lopez\"]\n"
   ]
  },
  {
   "cell_type": "code",
   "execution_count": null,
   "metadata": {},
   "outputs": [],
   "source": [
    "lista_usuarios = [\"juan_doe123\", \"lola_12\", \"Aurora_23\", \"12marta_lopez\"]"
   ]
  },
  {
   "cell_type": "code",
   "execution_count": null,
   "metadata": {},
   "outputs": [],
   "source": [
    "lista_usuarios = [\"juan_doe123\", \"lola_12\", \"Aurora_23\", \"12marta_lopez\"]\n",
    "patron = r'^[a-z0-9_]+$'\n",
    "\n",
    "for usuario in lista_usuarios:\n",
    "    if re.match(patron, usuario):\n",
    "        print(f'El usuario es válido: {usuario}')\n",
    "    else:\n",
    "      print(f'El usuario no es válido: {usuario}')"
   ]
  },
  {
   "cell_type": "markdown",
   "metadata": {},
   "source": [
    "\n",
    "8. Encontrar todas las fechas en formato \"dd/mm/aaaa\" en un texto.\n",
    "Descripción: Encontrar todas las fechas válidas en formato \"dd/mm/aaaa\" presentes en una cadena de texto.\n",
    "Probad con el siguiente string:\n",
    "texto = \"La fecha límite es el 31/12/2022. Hoy es 01/01/2023. Cumpleaños: 15/05/1990.\"\n"
   ]
  },
  {
   "cell_type": "code",
   "execution_count": null,
   "metadata": {},
   "outputs": [],
   "source": [
    "texto = \"La fecha límite es el 31/12/2022. Hoy es 01/01/2023. Cumpleaños: 15/05/1990.\""
   ]
  },
  {
   "cell_type": "code",
   "execution_count": null,
   "metadata": {},
   "outputs": [],
   "source": [
    "texto = \"La fecha límite es el 31/12/2022. Hoy es 01/01/2023. Cumpleaños: 15/05/1990.\"\n",
    "patron = r'\\b\\d{2}/\\d{2}/\\d{4}\\b'\n",
    "resultado = re.findall(patron, texto)\n",
    "if resultado:\n",
    "    print(f'Se han encontrado las siguientes fechas:{resultado}')\n",
    "else:\n",
    "    print('No se han encontrado fechas con el mismo formato')"
   ]
  },
  {
   "cell_type": "markdown",
   "metadata": {},
   "source": [
    "\n",
    "9. Remover caracteres especiales.\n",
    "Descripción: Dada una cadena de texto, remover cualquier carácter especial, como signos de puntuación y símbolos.\n",
    "Probad con el siguiente string:\n",
    "texto = '¡Hola, cómo estás? ¿Todo bien?'\n"
   ]
  },
  {
   "cell_type": "code",
   "execution_count": null,
   "metadata": {},
   "outputs": [],
   "source": [
    "texto = '¡Hola, cómo estás? ¿Todo bien?'"
   ]
  },
  {
   "cell_type": "code",
   "execution_count": null,
   "metadata": {},
   "outputs": [],
   "source": [
    "texto = '¡Hola, cómo estás? ¿Todo bien?'\n",
    "patron = r'[^A-Za-z0-9 ]+'\n",
    "eliminacion_caracteres = re.sub(patron, '', texto) #ponemos '' ya que eliminar caracteres según el patrón y los reemplazamos por 'nada'. \n",
    "print('Tras eliminar caracteres especial el texto es:', eliminacion_caracteres)"
   ]
  },
  {
   "cell_type": "markdown",
   "metadata": {},
   "source": [
    "\n",
    "10. BONUS: Enmascarar información personal.\n",
    "Descripción: Dada una cadena de texto que contiene información personal, como nombres y direcciones, enmascarar esta información reemplazándola con asteriscos (*).\n",
    "Probad con este string:\n",
    "texto = 'El nombre del cliente es John Doe y su dirección es 123 Main Street.'"
   ]
  },
  {
   "cell_type": "code",
   "execution_count": null,
   "metadata": {},
   "outputs": [],
   "source": [
    "texto = 'El nombre del cliente es John Doe y su dirección es 123 Main Street.'"
   ]
  },
  {
   "cell_type": "code",
   "execution_count": null,
   "metadata": {},
   "outputs": [],
   "source": [
    "# REVISAR PATRÓN, NO SOLUCIONADO CORRECTAMENTE  \n",
    "\n",
    "texto = 'El nombre del cliente es John Doe y su dirección es 123 Main Street.'\n",
    "patron_nombre = r'\\b[A-Z][a-z]*\\s[A-Z][a-z]*\\b'  #Con este patrón suponemos que nombres está en formato 'Nombre Apellido'\n",
    "patron_direccion = r'\\b\\d+\\s[A-Za-z]+\\s[A-Za-z]+\\b'  #Con este patrón establecemos que la dirección está en formato \"Número Calle Calle\"\n",
    "\n",
    "def enmascarar_informacion(texto):\n",
    "    texto_oculto = texto\n",
    "    \n",
    "    #Enmascaramos nombre y apellido\n",
    "    texto_oculto = re.sub(patron_nombre, '*****', texto)\n",
    "    \n",
    "    #Enmascaramos direcciones\n",
    "    texto_oculto = re.sub(patron_direccion, '********', texto_oculto)\n",
    "\n",
    "    return texto_oculto"
   ]
  }
 ],
 "metadata": {
  "kernelspec": {
   "display_name": "base",
   "language": "python",
   "name": "python3"
  },
  "language_info": {
   "codemirror_mode": {
    "name": "ipython",
    "version": 3
   },
   "file_extension": ".py",
   "mimetype": "text/x-python",
   "name": "python",
   "nbconvert_exporter": "python",
   "pygments_lexer": "ipython3",
   "version": "3.9.7"
  }
 },
 "nbformat": 4,
 "nbformat_minor": 2
}
