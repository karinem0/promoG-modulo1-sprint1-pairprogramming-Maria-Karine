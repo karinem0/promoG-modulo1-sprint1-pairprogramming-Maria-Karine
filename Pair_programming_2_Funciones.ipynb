{
 "cells": [
  {
   "cell_type": "markdown",
   "metadata": {},
   "source": [
    "# Pair programming Funciones\n",
    "\n",
    "1. Calcular el área de un círculo.\n",
    "Descripción: Crea una función llamada calcular_area_circulo que tome el radio como parámetro y devuelva el área del círculo.\n",
    "NOTA: Os dejamos  un link para recordar comose calculaba el área de un círculo.\n"
   ]
  },
  {
   "cell_type": "code",
   "execution_count": 1,
   "metadata": {},
   "outputs": [
    {
     "data": {
      "text/plain": [
       "314.1592653589793"
      ]
     },
     "execution_count": 1,
     "metadata": {},
     "output_type": "execute_result"
    }
   ],
   "source": [
    "import math\n",
    "def area_circulo(radio) :\n",
    "   \n",
    "    area = math.pi * (radio **2)\n",
    "\n",
    "    return(area)\n",
    "#Comprobamos con un ejemplo\n",
    "area_circulo(10)"
   ]
  },
  {
   "cell_type": "markdown",
   "metadata": {},
   "source": [
    "\n",
    "2. Contar la cantidad de caracteres en una cadena.\n",
    "Descripción: Crea una función llamada contar_caracteres que tome una cadena como parámetro y devuelva la cantidad de caracteres que contiene.\n"
   ]
  },
  {
   "cell_type": "code",
   "execution_count": 19,
   "metadata": {},
   "outputs": [],
   "source": [
    "def contar_caracteres(cadena): \n",
    "        longitud= len(cadena)\n",
    "        return longitud\n"
   ]
  },
  {
   "cell_type": "code",
   "execution_count": 20,
   "metadata": {},
   "outputs": [
    {
     "data": {
      "text/plain": [
       "41"
      ]
     },
     "execution_count": 20,
     "metadata": {},
     "output_type": "execute_result"
    }
   ],
   "source": [
    "cadena= 'Estamos aprendiendo a programar en Python'\n",
    "contar_caracteres(cadena)"
   ]
  },
  {
   "cell_type": "markdown",
   "metadata": {},
   "source": [
    "\n",
    "3. Determinar si una cadena es un palíndromo.\n",
    "Descripción: Crea una función llamada es_palindromo que tome una cadena como parámetro y devuelva True si es un palíndromo, o False si no lo es.\n",
    "​\n"
   ]
  },
  {
   "cell_type": "code",
   "execution_count": 26,
   "metadata": {},
   "outputs": [
    {
     "name": "stdout",
     "output_type": "stream",
     "text": [
      "La palabra no es un palíndromo.\n"
     ]
    }
   ],
   "source": [
    "def palindromo(cadena):\n",
    "    cadena= cadena.lower(). replace(\" \",\"\")  #definimos cadena, pasamos a minúsculas y quitamos los espacios\n",
    "    cadena == cadena[::-1] #le damos la vuelta a la cadenta\n",
    "palabra = input(\"Ingresa una palabra: \") \n",
    "\n",
    "if palindromo(palabra):\n",
    "    print(\"La palabra es un palíndromo.\")\n",
    "            \n",
    "else:\n",
    "    print(\"La palabra no es un palíndromo.\")\n",
    "    "
   ]
  },
  {
   "cell_type": "markdown",
   "metadata": {},
   "source": [
    "4. Calcular el promedio de una lista de números.\n",
    "Descripción: Crea una función llamada calcular_promedio que tome una lista de números como parámetro y devuelva el promedio de todos sus elementos.\n"
   ]
  },
  {
   "cell_type": "code",
   "execution_count": 38,
   "metadata": {},
   "outputs": [],
   "source": [
    "def calcular_promedio(lista):\n",
    "    promedio= sum(lista)/len(lista)\n",
    "    print(promedio)\n",
    "    return promedio"
   ]
  },
  {
   "cell_type": "code",
   "execution_count": 37,
   "metadata": {},
   "outputs": [
    {
     "name": "stdout",
     "output_type": "stream",
     "text": [
      "18.0\n"
     ]
    }
   ],
   "source": [
    "lista_x= [3,5,45,56,3,6,8]\n",
    "calcular_promedio(lista_x)"
   ]
  },
  {
   "cell_type": "markdown",
   "metadata": {},
   "source": [
    "5. Calcular el interés compuesto.Descripción: Crea una función llamada calcular_interes_compuesto que tome el capital inicial, la tasa de interés y el número de períodos como parámetros y devuelva el beneficio final después del interés compuesto.\n"
   ]
  },
  {
   "cell_type": "code",
   "execution_count": 50,
   "metadata": {},
   "outputs": [],
   "source": [
    "def calcular_interes_compuesto(interes_compuesto):\n",
    "    capital= int(input('Inserte su capital:'))\n",
    "    tasa_interes= float(input('Ingrese su porcentaje de interés:'))\n",
    "    periodo= int(input('Ingrese el número de períodos en años:'))\n",
    "    interes_compuesto= capital*(1+tasa_interes)*periodo\n",
    "    print(interes_compuesto)\n",
    "    return interes_compuesto"
   ]
  },
  {
   "cell_type": "markdown",
   "metadata": {},
   "source": [
    "6. Validar si una palabra es un anagrama de otra.\n",
    "Descripción: Crea una función llamada es_anagrama que tome dos palabras como parámetros y devuelva True si una es un anagrama de la otra, o False si no lo es.\n"
   ]
  },
  {
   "cell_type": "code",
   "execution_count": 16,
   "metadata": {},
   "outputs": [
    {
     "ename": "SyntaxError",
     "evalue": "invalid syntax (2492535702.py, line 9)",
     "output_type": "error",
     "traceback": [
      "\u001b[0;36m  File \u001b[0;32m\"/tmp/ipykernel_7436/2492535702.py\"\u001b[0;36m, line \u001b[0;32m9\u001b[0m\n\u001b[0;31m    else:\u001b[0m\n\u001b[0m    ^\u001b[0m\n\u001b[0;31mSyntaxError\u001b[0m\u001b[0;31m:\u001b[0m invalid syntax\n"
     ]
    }
   ],
   "source": [
    "palabra1= input('Inserte su palabra')\n",
    "palabra2= input('Inserte su palabra')\n",
    "\n",
    "def es_anagrama(palabra1, palabra2):\n",
    "    \n",
    "    if palabra1[::-1] == palabra2:\n",
    "        print('Es anagrama')\n",
    "    return\n",
    "    else:\n",
    "        print('No es anagrama')\n",
    "    return  "
   ]
  },
  {
   "cell_type": "markdown",
   "metadata": {},
   "source": [
    "​7. Validar si una cadena de texto es un isograma.\n",
    "Descripción: Crea una función llamada es_isograma que tome una cadena de texto como parámetro y devuelva True si es un isograma. En caso contrario, devuelve False.\n",
    "¿Qué es un isograma? Una palabra que no contiene letras repetidas.\n"
   ]
  },
  {
   "cell_type": "code",
   "execution_count": 26,
   "metadata": {},
   "outputs": [
    {
     "name": "stdout",
     "output_type": "stream",
     "text": [
      "['g', 'a', 't', 'o']\n"
     ]
    }
   ],
   "source": [
    "palabra= 'gato'\n",
    "lista_letras= list(palabra)\n",
    "print(lista_letras)\n",
    "isograma=[]\n",
    "\n",
    "for letra in lista_letras: \n",
    "    if letra in isograma:\n",
    "        \n",
    "    else:\n",
    "        lista.append(isograma)"
   ]
  },
  {
   "cell_type": "code",
   "execution_count": null,
   "metadata": {},
   "outputs": [],
   "source": [
    "def es_isograma():"
   ]
  },
  {
   "cell_type": "markdown",
   "metadata": {},
   "source": [
    "8. Concatenar múltiples cadenas de texto\n",
    "Descripción: Crea una función llamada concatenar_cadenas que tome una cantidad variable de cadenas de texto como argumentos y devuelva una única cadena que contenga la concatenación de todas las cadenas ingresadas.\n"
   ]
  },
  {
   "cell_type": "code",
   "execution_count": null,
   "metadata": {},
   "outputs": [],
   "source": []
  },
  {
   "cell_type": "markdown",
   "metadata": {},
   "source": [
    "9. Crear un diccionario con información de una persona.\n",
    "Descripción: Crea una función llamada crear_persona que tome como argumentos clave-valor los datos de una persona, como nombre, edad, ciudad, etc., y devuelva un diccionario con toda la información ingresada.\n"
   ]
  },
  {
   "cell_type": "code",
   "execution_count": null,
   "metadata": {},
   "outputs": [],
   "source": []
  },
  {
   "cell_type": "markdown",
   "metadata": {},
   "source": [
    "10. Encontrar el número que falta en una lista ordenada de números consecutivos.\n",
    "Descripción: Crea una función llamada encontrar_numero_faltante que tome una lista de números consecutivos (del 1 al N, sin repetir) con un número faltante y devuelva ese número faltante.\n"
   ]
  },
  {
   "cell_type": "code",
   "execution_count": null,
   "metadata": {},
   "outputs": [],
   "source": []
  },
  {
   "cell_type": "markdown",
   "metadata": {},
   "source": [
    "11. Encontrar el elemento duplicado en una lista de números.\n",
    "Descripción: Crea una función llamada encontrar_duplicado que tome una lista de números enteros y devuelva el elemento que está duplicado en la lista"
   ]
  },
  {
   "cell_type": "code",
   "execution_count": 26,
   "metadata": {},
   "outputs": [],
   "source": [
    "def encontrar_duplicado(lista_numeros):\n",
    "    \n",
    "    lista_num = []\n",
    "\n",
    "    for num in lista_numeros:\n",
    "\n",
    "        if num not in lista_num:\n",
    "            lista_num.append(num)\n",
    "        #Hacemos esto para saber si el numero está en lista_num, si no lo está se le añade\n",
    "        else:\n",
    "            print(num)\n",
    "            return num"
   ]
  },
  {
   "cell_type": "code",
   "execution_count": 27,
   "metadata": {},
   "outputs": [
    {
     "name": "stdout",
     "output_type": "stream",
     "text": [
      "9\n"
     ]
    }
   ],
   "source": [
    "lista_n= [1,2,3,5,7,9,9,6,4]\n",
    "lista_n= encontrar_duplicado(lista_n) \n"
   ]
  }
 ],
 "metadata": {
  "kernelspec": {
   "display_name": "base",
   "language": "python",
   "name": "python3"
  },
  "language_info": {
   "codemirror_mode": {
    "name": "ipython",
    "version": 3
   },
   "file_extension": ".py",
   "mimetype": "text/x-python",
   "name": "python",
   "nbconvert_exporter": "python",
   "pygments_lexer": "ipython3",
   "version": "3.9.7"
  }
 },
 "nbformat": 4,
 "nbformat_minor": 2
}
