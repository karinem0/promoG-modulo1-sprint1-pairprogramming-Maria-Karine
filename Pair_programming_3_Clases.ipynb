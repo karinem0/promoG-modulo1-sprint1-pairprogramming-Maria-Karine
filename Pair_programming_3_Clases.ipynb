{
 "cells": [
  {
   "cell_type": "markdown",
   "metadata": {},
   "source": [
    "**PAIR PROGRAMMING CLASES**     "
   ]
  },
  {
   "cell_type": "markdown",
   "metadata": {},
   "source": [
    "**1.** En este ejercicio de pair programming, vamos a crear una clase para gestionar la información de los empleados de nuestra empresa. Siguiendo las indicaciones del jefe, necesitamos organizar los datos de cada empleado de manera más estructurada.\n",
    "\n",
    "La clase Empleados permite gestionar información relacionada con los empleados de una empresa, con las siguientes características:"
   ]
  },
  {
   "cell_type": "markdown",
   "metadata": {},
   "source": [
    "✔ 1.Debes crear una clase llamada \"Empleados\" que tenga los siguientes atributos: nombre, apellidos, edad, posicion, año , vacaciones(cantidad de días de vacaciones que le quedan al empleado) y herramientas.\n"
   ]
  },
  {
   "cell_type": "markdown",
   "metadata": {},
   "source": [
    "✔2.El constructor __init__ debe recibir estos atributos como parámetros y asignarlos a los respectivos atributos de la clase."
   ]
  },
  {
   "cell_type": "markdown",
   "metadata": {},
   "source": [
    "3.Los atributos representan la información personal y profesional de un empleado, como su nombre completo, edad, posición en la empresa, año de ingreso, días de vacaciones disponibles y una lista de herramientas que el empleado sabe utilizar."
   ]
  },
  {
   "cell_type": "markdown",
   "metadata": {},
   "source": [
    "*Los métodos que debe recibir esta clase son:*"
   ]
  },
  {
   "cell_type": "markdown",
   "metadata": {},
   "source": [
    "Método descripcion: Proporciona una descripción del empleado, incluyendo su nombre, posición en la empresa, y la cantidad de días de vacaciones que le quedan para el año actual. Los pasos para resolver el ejercicio del método descripcion son:\n",
    "\n",
    "✔-Utilizar F-Strings: Utiliza f-strings para construir la descripción del empleado de manera legible y eficiente.\n",
    "\n",
    "✔-Especificar los Atributos a Incluir: Determina cuáles de los atributos del empleado se deben incluir en la descripción. Los atributos          necesarios son nombre, posicion, año, y vacaciones.\n",
    "        \n",
    "✔-Concatenar los Atributos: Usar f-strings para concatenar los atributos seleccionados y crear una descripción coherente."
   ]
  },
  {
   "cell_type": "markdown",
   "metadata": {},
   "source": [
    "***2.***Método cambiando_posicion: Verifica las herramientas que el empleado tiene en su lista y devuelve un mensaje específico basado en las herramientas. Puede elogiar al empleado si tiene \"Python\" en su lista o sugerirle que deje de usar \"Excel\" y aprenda Python. Los pasos para resolver este ejercicio son:\n",
    "\n",
    "-Iterar a través de las Herramientas: La función debe recorrer la lista de herramientas (self.herramientas) del empleado.\n",
    "-Evaluar Cada Herramienta: Para cada herramienta en la lista, verifica si es igual a \"Python\" o \"Excel\" (en minúsculas)."
   ]
  },
  {
   "cell_type": "markdown",
   "metadata": {},
   "source": [
    "***3***Método calcular_antiguedad: Calcula la antigüedad del empleado en años y meses desde el año de ingreso hasta la fecha actual.\n",
    "\n",
    "-Calcular la Antigüedad en Años y Meses: Utiliza el módulo datetime de Python para obtener el año actual y el mes actual.\n",
    "                \n",
    "-Generar el Mensaje de Antigüedad: Usa los valores calculados para años y meses de antigüedad para generar un mensaje descriptivo. Por ejemplo, \"Juan lleva 5 años y 3 meses en la empresa\"."
   ]
  },
  {
   "cell_type": "markdown",
   "metadata": {},
   "source": [
    "4-Método solicitar_aumento_vacaciones: Permite al empleado solicitar un aumento en la cantidad de días de vacaciones. Si la solicitud es válida (es decir, se solicitan días positivos), actualiza los días de vacaciones del empleado y devuelve un mensaje de confirmación. Recibirá un parámetro dias_solicitados, que corresponderá con el número de días de vacaciones que quiere solicitar.\n",
    "\n",
    "-Validar los Días Solicitados: Utiliza una estructura de control para verificar si la cantidad de días solicitados (dias_solicitados) es mayor que cero. Esto garantiza que solo se procesen solicitudes de aumento válidas.\n",
    "\n",
    "-Actualizar los Días de Vacaciones: Si la solicitud es válida, aumenta la cantidad de días de vacaciones del empleado (self.vacaciones) sumando la cantidad de días solicitados.\n",
    "\n",
    "-Generar un Mensaje de Confirmación: Crea un mensaje informativo que confirme la aprobación de la solicitud y muestre la cantidad actualizada de días de vacaciones del empleado.\n",
    "Manejar Solicitudes No Válidas: Si la solicitud no es válida (es decir, dias_solicitados es menor o igual a cero), generar un mensaje de error que indique que la solicitud debe ser un número positivo."
   ]
  },
  {
   "cell_type": "markdown",
   "metadata": {},
   "source": [
    "5-Método registrar_herramienta: Permite al empleado registrar una nueva herramienta en su lista de habilidades. La herramienta se registra si no está registrada previamente en la lista de herramientas del empleado. Recibirá un parámetro que será la nueva herramienta.\n",
    "\n",
    "-Validar la Nueva Herramienta: Utiliza una estructura de control para verificar si la nueva herramienta no está en la lista de herramientas existentes.\n",
    "\n",
    "-Agregar la Nueva Herramienta: Si la nueva herramienta no está en la lista existente, agregarla a la lista.\n",
    "\n",
    "-Generar un Mensaje de Confirmación: Crea un mensaje informativo que confirme el registro exitoso de la nueva herramienta y muestre el nombre de la herramienta registrada.\n",
    "-Manejar Herramientas Duplicadas: Si la nueva herramienta ya existe en la lista, genera un mensaje que indique que la herramienta ya ha sido registrada previamente."
   ]
  },
  {
   "cell_type": "markdown",
   "metadata": {},
   "source": [
    "6-Método cambiar_posicion: Permite al empleado cambiar su posición y salario en la empresa. Actualiza la posición y el salario y devuelve un mensaje de felicitación. Recibirá dos parámetros, la nueva posición y el nuevo salario.\n",
    "\n",
    "-Actualizar la Posición y el Salario: Utiliza los parámetros nueva_posicion y nuevo_salario para actualizar la posición y el salario del empleado.\n",
    "\n",
    "-Generar un Mensaje de Confirmación: Crea un mensaje informativo que confirme el cambio de posición y salario del empleado y muestre el nombre del empleado, la nueva posición y el nuevo salario."
   ]
  },
  {
   "cell_type": "markdown",
   "metadata": {},
   "source": [
    "7-Método tomar_vacaciones: Permite al empleado tomar días de vacaciones, solicitando la cantidad deseada y actualizando los días de vacaciones restantes. Verifica que se solicite al menos un día de vacaciones y que el empleado tenga suficientes días disponibles. No recibe ningún parámetro adicional.\n",
    "\n",
    "-Solicitar la Cantidad de Días de Vacaciones: Usar la función input para solicitar al usuario la cantidad de días de vacaciones que desea tomar.\n",
    "\n",
    "-Validar la Cantidad de Días: Comprueba que la cantidad de días solicitados sea mayor que cero. Si el usuario ingresa un valor no válido (cero o negativo), muestra un mensaje de error y solicita nuevamente la cantidad de días hasta que sea válida.\n",
    "\n",
    "-Verificar Disponibilidad de Días de Vacaciones: Comprueba si la cantidad de días solicitados es menor o igual a la cantidad de días de vacaciones disponibles para el empleado.\n",
    "\n",
    "-Actualizar Días de Vacaciones: Si hay suficientes días de vacaciones disponibles, modifica el código para que se modifiquen los días de vacaciones que le quedan. Si no hay suficientes días disponibles, mostrar un mensaje de error.\n",
    "\n",
    "-Generar un Mensaje de Confirmación o Error: Dependiendo de si la solicitud se procesó con éxito o no, genera un mensaje que informe al empleado sobre el resultado de su solicitud."
   ]
  },
  {
   "cell_type": "markdown",
   "metadata": {},
   "source": [
    "8-Método solicitar_aumento_salario: Permite al empleado solicitar un aumento de salario en porcentaje y calcula el nuevo salario. Verifica que el aumento sea un valor positivo o igual a cero. Este método no recibe ningún parámetro.\n",
    "\n",
    "-Solicitar el Porcentaje de Aumento de Salario: Utiliza la función input para solicitar al usuario el porcentaje de aumento de salario que desea. Asegurate de que el valor ingresado sea un número decimal.\n",
    "\n",
    "-Validar el Porcentaje de Aumento: Utiliza un bucle while para garantizar que el porcentaje de aumento sea mayor o igual a cero. Si el usuario ingresa un valor no válido (negativo), muestra un mensaje de error y solicita nuevamente el porcentaje hasta que sea válido.\n",
    "\n",
    "-Calcular el Nuevo Salario: Calcula el nuevo salario.\n",
    "\n",
    "\n",
    "-Generar un Mensaje de Confirmación: Crea un mensaje que informe al empleado sobre el resultado de su solicitud. Incluye el nuevo salario calculado en el mensaje.\n",
    "\n",
    "-Manejar Errores de Entrada: Utiliza un bloque try...except para manejar posibles errores de entrada, como cuando el usuario ingresa un valor que no se puede convertir a un número decimal."
   ]
  },
  {
   "cell_type": "markdown",
   "metadata": {},
   "source": [
    "9-Método realizar_evaluacion: Permite al empleado recibir una calificación de desempeño, con opciones como \"Excelente\", \"Bueno\", \"Regular\" o \"Malo\". \n",
    "\n",
    "-Verifica que la calificación ingresada sea válida. Este método no recibe ningún parámetro.\n",
    "\n",
    "-Solicitar la Calificación del Desempeño: Utiliza la función input para solicitar al usuario que califique su propio desempeño. Asegurate de que el valor ingresado sea una de las opciones válidas: \"excelente\", \"bueno\", \"regular\" o \"malo\".\n",
    "\n",
    "-Validar la Calificación: Utiliza un bucle while para garantizar que la calificación ingresada sea una de las opciones válidas. Si el usuario ingresa una calificación no válida, muestra un mensaje de error y solicita nuevamente la calificación hasta que sea válida.\n",
    "\n",
    "-Generar un Mensaje de Retroalimentación: Crear un mensaje que proporcione retroalimentación al empleado basada en la calificación ingresada.\n",
    "\n",
    "-Retornar el Mensaje Generado: La función debe incluir una instrucción return que devuelva el mensaje generado."
   ]
  },
  {
   "cell_type": "markdown",
   "metadata": {},
   "source": [
    "**CODIGO MARIA**"
   ]
  },
  {
   "cell_type": "code",
   "execution_count": 1,
   "metadata": {},
   "outputs": [],
   "source": [
    "from datetime import datetime\n",
    "\n",
    "class Empleado:\n",
    "\n",
    "    def __init__(self, nombre, apellidos, edad, posicion, anyo, vacaciones, herramientas,salario):\n",
    "        \n",
    "        self.nombre = nombre\n",
    "        self.apellidos = apellidos\n",
    "        self.edad = edad\n",
    "        self.posicion = posicion\n",
    "        self.anyo = anyo\n",
    "        self.vacaciones = vacaciones\n",
    "        self.herramientas = herramientas\n",
    "        self.salario = salario\n",
    "\n",
    "    def descripcion(self):\n",
    "        \n",
    "        return print(f'nuestra empleada {self.nombre} ocupa el puesto de {self.posicion} desde el año {self.anyo} y tiene pendientes {self.vacaciones} días de vacaciones')\n",
    "\n",
    "    def cambiando_posicion(self):\n",
    "        \n",
    "        tiene_python = False\n",
    "        tiene_excel = False\n",
    "        for herramienta in self.herramientas:\n",
    "            if herramienta.lower() == 'python':\n",
    "                tiene_python = True\n",
    "            elif herramienta.lower() == 'excel':\n",
    "                tiene_excel = True\n",
    "        if tiene_python and not tiene_excel:\n",
    "            return \"Genial, sigue así.\"\n",
    "        elif tiene_excel and not tiene_python:\n",
    "            return \"Deberías estudiar python.\"\n",
    "        elif tiene_python and tiene_excel:\n",
    "            return \"Genial, Considera dejar Excel por completo.\"\n",
    "        else:\n",
    "            return \"No debes usar nada.\" \n",
    "\n",
    "    def calcular_antiguedad(self):\n",
    "\n",
    "        current_date = datetime.now()\n",
    "\n",
    "        age = datetime(self.anyo,1,1)\n",
    "        \n",
    "        antiguedad = current_date - age\n",
    "        \n",
    "        antiguedad_anyos = antiguedad.days//365\n",
    "        antiguedad_meses = (antiguedad.days % 365) // 30\n",
    "\n",
    "        return print(f\"Diferencia entre {self.anyo} y la fecha actual es {antiguedad_anyos} años y {antiguedad_meses} meses\")\n",
    "     \n",
    "     \n",
    "     #OTRA FORMA POSIBLE: \n",
    "     \n",
    "#  def calcular_antiguedad(self,año):\n",
    "#      today = datetime.today()\n",
    "#      print(today)\n",
    "#      años = today.year - self.año\n",
    "#      meses = today.month\n",
    "#      return f'{self.nombres} lleva {años} años y {meses} meses en la empresa.'\n",
    "    \n",
    "     \n",
    "     \n",
    "    def solicitar_aumento_vacaciones(self,dias_solicitados):\n",
    "        self.dias_solicitados = dias_solicitados\n",
    "        if self.dias_solicitados >=0:\n",
    "            self.vacaciones += self.dias_solicitados\n",
    "            return print(f'hemos actualizado tus días de vacaciones, actualmente dispones de {self.vacaciones} días')\n",
    "        else:\n",
    "            return print(f'por favor, revisa tu solicitud, los días que nos indicas no son positivos')\n",
    "    \n",
    "    \n",
    "    def registrar_herramienta(self,nueva_herramienta):\n",
    "        self.nueva_herramienta = nueva_herramienta\n",
    "        if self.nueva_herramienta in self.herramientas:\n",
    "            print(f'Ya contábamos con la skill {self.nueva_herramienta}. Te recordamos tu lista de skills {self.herramientas}')\n",
    "        else:\n",
    "            self.herramientas.append(self.nueva_herramienta)\n",
    "            print(f'tu nueva skill{self.nueva_herramienta} ha sido agregada, tu lista de skills actualizadas es {self.herramientas}')\n",
    "\n",
    "\n",
    "\n",
    "#   def registrar_herramienta(self, nueva_herramienta):\n",
    "#    #al llamar a la función declarar variable nueva_herramienta\n",
    "#        nueva_herramienta = input('Inser nuevas herramientas:').lower()\n",
    "#        if nueva_herramienta.lower() not in self.herramientas:\n",
    "#            self.herramientas.append(nueva_herramienta.lower())\n",
    "#            return f'{nueva_herramienta} ha sido registrada.'\n",
    "#        else:\n",
    "#             return f'{nueva_herramienta} ya está registrada.'\n",
    "\n",
    "\n",
    "    def cambiar_posicion(self, nueva_posicion, nuevo_salario):\n",
    "        \n",
    "        self.nueva_posicion = nueva_posicion\n",
    "        self.nuevo_salario = nuevo_salario\n",
    "\n",
    "        self.posicion = self.nueva_posicion  \n",
    "        self.salario = self.nuevo_salario\n",
    "\n",
    "        return print(f'hemos actualizado tu posición {self.posicion} y tu salario {self.salario}€, enhorabuena 🎉🎉🎉🎊🎊')\n",
    "\n",
    "    def tomar_vacaciones(self):\n",
    "        while True:\n",
    "            try:\n",
    "                solicitud_dias = int(input(\"¿Cuantos días quieres solicitar? \"))\n",
    "                if solicitud_dias > 0:\n",
    "                    if self.vacaciones >= solicitud_dias:\n",
    "                        self.vacaciones -= solicitud_dias\n",
    "                        print(f'¡Genial! Tienes suficientes días para tomarte vacaciones. Disfruta a tope 😁😁')\n",
    "                    else:\n",
    "                        print(f'No tienes suficientes días de vacaciones disponibles. Te quedan {self.vacaciones} días.')\n",
    "                else:\n",
    "                    print('Por favor, introduce un número válido de días de vacaciones (mayor que cero).')\n",
    "                    continue  \n",
    "                break  \n",
    "            except ValueError:\n",
    "                print('Por favor, introduce un valor numérico válido.')\n",
    "                \n",
    "     \n",
    "                "
   ]
  },
  {
   "cell_type": "code",
   "execution_count": 2,
   "metadata": {},
   "outputs": [
    {
     "name": "stdout",
     "output_type": "stream",
     "text": [
      "<__main__.Empleado object at 0x7fd85043ecd0>\n"
     ]
    }
   ],
   "source": [
    "Aina = Empleado(\"Aina\",\"Minguez\",21,\"medico\", 2023,23,[\"excel\",\"python\"],15000)\n",
    "\n",
    "print(Aina)"
   ]
  },
  {
   "cell_type": "code",
   "execution_count": 3,
   "metadata": {},
   "outputs": [
    {
     "name": "stdout",
     "output_type": "stream",
     "text": [
      "nuestra empleada Aina ocupa el puesto de medico desde el año 2023 y tiene pendientes 23 días de vacaciones\n"
     ]
    }
   ],
   "source": [
    "Aina.descripcion()"
   ]
  },
  {
   "cell_type": "code",
   "execution_count": 4,
   "metadata": {},
   "outputs": [
    {
     "data": {
      "text/plain": [
       "'Genial, Considera dejar Excel por completo.'"
      ]
     },
     "execution_count": 4,
     "metadata": {},
     "output_type": "execute_result"
    }
   ],
   "source": [
    "Aina.cambiando_posicion()"
   ]
  },
  {
   "cell_type": "code",
   "execution_count": 5,
   "metadata": {},
   "outputs": [
    {
     "name": "stdout",
     "output_type": "stream",
     "text": [
      "Diferencia entre 2023 y la fecha actual es 1 años y 1 meses\n"
     ]
    }
   ],
   "source": [
    "Aina.calcular_antiguedad()"
   ]
  },
  {
   "cell_type": "code",
   "execution_count": 6,
   "metadata": {},
   "outputs": [
    {
     "name": "stdout",
     "output_type": "stream",
     "text": [
      "hemos actualizado tus días de vacaciones, actualmente dispones de 27 días\n"
     ]
    }
   ],
   "source": [
    "Aina.solicitar_aumento_vacaciones(4)"
   ]
  },
  {
   "cell_type": "code",
   "execution_count": 7,
   "metadata": {},
   "outputs": [
    {
     "name": "stdout",
     "output_type": "stream",
     "text": [
      "tu nueva skillword ha sido agregada, tu lista de skills actualizadas es ['excel', 'python', 'word']\n"
     ]
    }
   ],
   "source": [
    "Aina.registrar_herramienta(\"word\")"
   ]
  },
  {
   "cell_type": "code",
   "execution_count": 8,
   "metadata": {},
   "outputs": [
    {
     "name": "stdout",
     "output_type": "stream",
     "text": [
      "Ya contábamos con la skill python. Te recordamos tu lista de skills ['excel', 'python', 'word']\n"
     ]
    }
   ],
   "source": [
    "Aina.registrar_herramienta(\"python\")"
   ]
  },
  {
   "cell_type": "code",
   "execution_count": 9,
   "metadata": {},
   "outputs": [
    {
     "name": "stdout",
     "output_type": "stream",
     "text": [
      "hemos actualizado tu posición data analyst y tu salario 30000€, enhorabuena 🎉🎉🎉🎊🎊\n"
     ]
    }
   ],
   "source": [
    "Aina.cambiar_posicion(\"data analyst\",\"30000\")"
   ]
  },
  {
   "cell_type": "code",
   "execution_count": 10,
   "metadata": {},
   "outputs": [
    {
     "name": "stdout",
     "output_type": "stream",
     "text": [
      "No tienes suficientes días de vacaciones disponibles. Te quedan 27 días.\n"
     ]
    }
   ],
   "source": [
    "Aina.tomar_vacaciones()"
   ]
  },
  {
   "cell_type": "markdown",
   "metadata": {},
   "source": [
    "### CODIGO KARINE ###"
   ]
  },
  {
   "cell_type": "code",
   "execution_count": 1,
   "metadata": {},
   "outputs": [],
   "source": [
    "from datetime import datetime\n",
    "\n",
    "class Empleados:\n",
    "    def __init__(self,nombres,apellidos,edad,posicion,año, vacaciones,herramientas):\n",
    "        \n",
    "        self.nombres = nombres\n",
    "\n",
    "        self.apellidos = apellidos\n",
    "\n",
    "        self.edad = edad\n",
    "\n",
    "        self.posicion = posicion\n",
    "\n",
    "        self.año = año\n",
    "\n",
    "        self.vacaciones = vacaciones\n",
    "\n",
    "        self.herramientas = herramientas\n",
    "    \n",
    "    def descripcion(self):\n",
    "\n",
    "        return f'Empleados: {self.nombres},{self.posicion}, año:{self.año}, vacaciones:{self.vacaciones}'\n",
    "        \n",
    "    def cambiando_posicion(self,herramientas):\n",
    "            \n",
    "        tiene_python = False\n",
    "        tiene_excel = False\n",
    "        for herramienta in self.herramientas:\n",
    "            if herramienta.lower() == 'python':\n",
    "                tiene_python = True\n",
    "            elif herramienta.lower() == 'excel':\n",
    "                tiene_excel = True\n",
    "        if tiene_python and not tiene_excel:\n",
    "            return \"Genial, sigue así.\"\n",
    "        elif tiene_excel and not tiene_python:\n",
    "            return \"Deberías estudiar python.\"\n",
    "        elif tiene_python and tiene_excel:\n",
    "            return \"Genial, tienes Python. Considera dejar Excel por completo.\"\n",
    "        else:\n",
    "            return \"No debes usar nada.\"    \n",
    "            \n",
    "    def calcular_antiguedad(self,año):\n",
    "        today = datetime.today()\n",
    "        print(today)\n",
    "        años = today.year - self.año\n",
    "        meses = today.month\n",
    "        return f'{self.nombres} lleva {años} años y {meses} meses en la empresa.'\n",
    "    \n",
    "    \n",
    "    def solicitar_aumento_vacaciones(self, dias_solicitados):\n",
    "        if dias_solicitados > 0:\n",
    "            self.vacaciones += dias_solicitados\n",
    "            return f'Solicitud aprobada. Ahora tienes {self.vacaciones} días de vacaciones.'\n",
    "        else:\n",
    "            return 'La solicitud debe ser un número positivo.'\n",
    "            \n",
    "    def registrar_herramienta(self, nueva_herramienta):\n",
    "    #al llamar a la función declarar variable nueva_herramienta\n",
    "        nueva_herramienta = input('Inser nuevas herramientas:').lower()\n",
    "        if nueva_herramienta.lower() not in self.herramientas:\n",
    "            self.herramientas.append(nueva_herramienta.lower())\n",
    "            return f'{nueva_herramienta} ha sido registrada.'\n",
    "        else:\n",
    "            return f'{nueva_herramienta} ya está registrada.'\n",
    "\n",
    "    \n",
    "    def cambiar_posicion(self,posicion, salario):\n",
    "        self.posicion = nueva_posicion\n",
    "        self.salario = nuevo_salario\n",
    "    \n",
    "        return f'¡Enhorabuena, {self.nombres}! Tu nueva posición es {nueva_posicion} y tu nuevo salario es {nuevo_salario}.'\n",
    "\n",
    "    \n",
    "    def tomar_vacaciones(self):\n",
    "        while True:\n",
    "            try:\n",
    "                dias = int(input('Inserte el número de días que desea solicitar de vacaciones: '))\n",
    "                if dias <= 0:\n",
    "                    print('La cantidad de días de vacaciones solicitados debe ser mayor que cero.')\n",
    "                elif dias > self.vacaciones:\n",
    "                    print('No tienes suficientes días de vacaciones disponibles.')\n",
    "                else:\n",
    "                    self.vacaciones -= dias\n",
    "                return f'Disfruta tus vacaciones. Ahora te quedan {self.vacaciones} días de vacaciones.'\n",
    "            except ValueError:\n",
    "                print('Por favor, ingrese un valor numérico entero para la cantidad de días de vacaciones.')\n",
    "\n",
    "\n",
    "    def solicitar_aumento_salario(self):\n",
    "        try:\n",
    "            aumento_salario = float(input(\"Ingrese el porcentaje de aumento de salario que desea: \"))\n",
    "            if aumento_salario < 0:\n",
    "                return \"El aumento de salario debe ser igual o mayor a cero.\"\n",
    "            else:\n",
    "                nuevo_salario = self.salario * (1 + aumento_salario / 100)\n",
    "                return f\"Solicitud aprobada. Tu nuevo salario es {nuevo_salario}.\"\n",
    "        except ValueError:\n",
    "            return \"Por favor, ingrese un valor numérico para el aumento de salario.\"\n",
    "\n",
    "\n",
    "    def realizar_evaluacion(self):\n",
    "        calificacion = input('Ingresa tu calificación de desempeño (excelente, bueno, regular, malo): ').lower()\n",
    "        if calificacion == 'excelente':\n",
    "            return '¡Excelente trabajo! Sigue así.'\n",
    "        elif calificacion == 'bueno':\n",
    "            return 'Buen trabajo. Hay áreas en las que puedes mejorar, pero en general estás haciendo un buen trabajo.'\n",
    "        elif calificacion == 'regular':\n",
    "            return 'Tu desempeño es aceptable, pero hay áreas que necesitas mejorar.'\n",
    "        elif calificacion == 'malo':\n",
    "            return 'Tu desempeño no ha sido satisfactorio. Necesitas trabajar en mejorar tu rendimiento.'\n",
    "        else:\n",
    "            return 'Por favor, ingrese una calificación válida.'\n"
   ]
  },
  {
   "cell_type": "code",
   "execution_count": 2,
   "metadata": {},
   "outputs": [
    {
     "name": "stdout",
     "output_type": "stream",
     "text": [
      "Nombres : Alba González\n",
      "Edad: 27\n",
      "Posición: Analista\n",
      "Año de ingreso: 2023\n",
      "Días de vacaciones: 30\n",
      "Herramientas: Python, SQL, Git\n"
     ]
    }
   ],
   "source": [
    "empleado1 = Empleados(\"Alba\", \"González\", 27, \"Analista\", 2023, 30, [\"Python\", \"SQL\", \"Git\"])\n",
    "# Imprimir empleado1 con saltos de línea usando f-strings\n",
    "print(f'Nombres : {empleado1.nombres} {empleado1.apellidos}\\n'\n",
    "      f'Edad: {empleado1.edad}\\n'\n",
    "      f'Posición: {empleado1.posicion}\\n'\n",
    "      f'Año de ingreso: {empleado1.año}\\n'\n",
    "      f'Días de vacaciones: {empleado1.vacaciones}\\n'\n",
    "      f'Herramientas: {\", \".join(empleado1.herramientas)}')\n"
   ]
  },
  {
   "cell_type": "code",
   "execution_count": 3,
   "metadata": {},
   "outputs": [
    {
     "name": "stdout",
     "output_type": "stream",
     "text": [
      "Descripción del Empleado:\n",
      "Empleados: Alba,Analista, año:2023, vacaciones:30\n"
     ]
    }
   ],
   "source": [
    "print(f'Descripción del Empleado:\\n{empleado1.descripcion()}')"
   ]
  },
  {
   "cell_type": "code",
   "execution_count": 4,
   "metadata": {},
   "outputs": [
    {
     "data": {
      "text/plain": [
       "'Genial, sigue así.'"
      ]
     },
     "execution_count": 4,
     "metadata": {},
     "output_type": "execute_result"
    }
   ],
   "source": [
    "empleado1.cambiando_posicion([\"Python\", \"SQL\", \"Git\"])"
   ]
  },
  {
   "cell_type": "code",
   "execution_count": 5,
   "metadata": {},
   "outputs": [
    {
     "name": "stdout",
     "output_type": "stream",
     "text": [
      "2024-02-11 21:56:25.062563\n"
     ]
    }
   ],
   "source": [
    "today = datetime.today()\n",
    "print(today)"
   ]
  },
  {
   "cell_type": "code",
   "execution_count": 6,
   "metadata": {},
   "outputs": [
    {
     "name": "stdout",
     "output_type": "stream",
     "text": [
      "2024-02-11 21:56:33.168102\n"
     ]
    },
    {
     "data": {
      "text/plain": [
       "'Alba lleva 1 años y 2 meses en la empresa.'"
      ]
     },
     "execution_count": 6,
     "metadata": {},
     "output_type": "execute_result"
    }
   ],
   "source": [
    "empleado1.calcular_antiguedad(2023)"
   ]
  },
  {
   "cell_type": "code",
   "execution_count": 7,
   "metadata": {},
   "outputs": [
    {
     "data": {
      "text/plain": [
       "'Solicitud aprobada. Ahora tienes 40 días de vacaciones.'"
      ]
     },
     "execution_count": 7,
     "metadata": {},
     "output_type": "execute_result"
    }
   ],
   "source": [
    "dias_solicitados = int(input('Inserte días que quiera solicitar de vacaciones:')) \n",
    "empleado1.solicitar_aumento_vacaciones(dias_solicitados)"
   ]
  },
  {
   "cell_type": "code",
   "execution_count": 8,
   "metadata": {},
   "outputs": [
    {
     "data": {
      "text/plain": [
       "'power bi ha sido registrada.'"
      ]
     },
     "execution_count": 8,
     "metadata": {},
     "output_type": "execute_result"
    }
   ],
   "source": [
    "nueva_herramienta = input('Inser nuevas herramientas:').lower()\n",
    "empleado1.registrar_herramienta(nueva_herramienta)"
   ]
  },
  {
   "cell_type": "code",
   "execution_count": 9,
   "metadata": {},
   "outputs": [
    {
     "data": {
      "text/plain": [
       "'¡Enhorabuena, Alba! Tu nueva posición es Gerente de Proyectos y tu nuevo salario es 4000.'"
      ]
     },
     "execution_count": 9,
     "metadata": {},
     "output_type": "execute_result"
    }
   ],
   "source": [
    "nueva_posicion = 'Gerente de Proyectos'\n",
    "nuevo_salario = 4000\n",
    "empleado1.cambiar_posicion(nueva_posicion, nuevo_salario)\n"
   ]
  },
  {
   "cell_type": "code",
   "execution_count": 10,
   "metadata": {},
   "outputs": [
    {
     "name": "stdout",
     "output_type": "stream",
     "text": [
      "Solicitud aprobada. Tu nuevo salario es 4200.0.\n"
     ]
    }
   ],
   "source": [
    "aumento = empleado1.solicitar_aumento_salario()\n",
    "print(aumento)"
   ]
  },
  {
   "cell_type": "code",
   "execution_count": 11,
   "metadata": {},
   "outputs": [
    {
     "data": {
      "text/plain": [
       "'Buen trabajo. Hay áreas en las que puedes mejorar, pero en general estás haciendo un buen trabajo.'"
      ]
     },
     "execution_count": 11,
     "metadata": {},
     "output_type": "execute_result"
    }
   ],
   "source": [
    "calificacion = input(\"Ingrese su calificación de desempeño (excelente, bueno, regular, malo): \").lower()\n",
    "empleado1.realizar_evaluacion()"
   ]
  },
  {
   "cell_type": "code",
   "execution_count": 34,
   "metadata": {},
   "outputs": [],
   "source": [
    "class Gerente(Empleados):\n",
    "    \n",
    "    def __init__(self, nombres, apellidos, edad, posicion, año, vacaciones, herramientas, departamento, empleados_a_cargo):\n",
    "        \n",
    "        super().__init__(nombres, apellidos, edad, posicion, año, vacaciones, herramientas)\n",
    "        self.departamento = departamento\n",
    "        self.empleados_a_cargo = empleados_a_cargo\n",
    "        \n",
    "    def descripcion(self):\n",
    "        descripcion = super().descripcion()\n",
    "        descripcion += f' Herramientas: {\", \".join(self.herramientas)}, Departamento: {self.departamento} Empleados a cargo: {\", \".join(self.empleados_a_cargo)}'\n",
    "        return descripcion\n",
    "\n",
    "    def asignar_tareas(self, tarea, empleado):\n",
    "        return f\"El gerente ha asignado la tarea '{tarea}' a {empleado}.\"\n",
    "\n",
    "    def revisar_desempeno_empleado(self, empleado):\n",
    "        return f\"El gerente está revisando el desempeño de {empleado}.\"\n",
    "\n",
    "    def gestionar_empleados(self, accion, empleado):\n",
    "        if accion == \"contratar\":\n",
    "            if empleado not in self.empleados_a_cargo:\n",
    "                self.empleados_a_cargo.append(empleado)\n",
    "                return f\"{empleado} ha sido contratado por el gerente.\"\n",
    "            else:\n",
    "                return f\"{empleado} ya está en la lista de empleados a cargo.\"\n",
    "        elif accion == \"despedir\":\n",
    "            if empleado in self.empleados_a_cargo:\n",
    "                self.empleados_a_cargo.remove(empleado)\n",
    "                return f\"{empleado} ha sido despedido por el gerente.\"\n",
    "            else:\n",
    "                return f\"{empleado} no está en la lista de empleados a cargo.\"\n",
    "        else:\n",
    "            return \"La acción especificada no es válida.\"\n"
   ]
  },
  {
   "cell_type": "code",
   "execution_count": 35,
   "metadata": {},
   "outputs": [
    {
     "data": {
      "text/plain": [
       "'Empleados: Juan,Gerente, año:2015, vacaciones:20 Herramientas: Excel, Python, Departamento: Ventas Empleados a cargo: Carlos, Roberto, Marco, Maria, Sofia, Alba'"
      ]
     },
     "execution_count": 35,
     "metadata": {},
     "output_type": "execute_result"
    }
   ],
   "source": [
    "# Ejemplo de uso:\n",
    "gerente1 = Gerente(\"Juan\", \"Pérez\", 35, \"Gerente\", 2015, 20, [\"Excel\", \"Python\"], \"Ventas\", ['Carlos', 'Roberto', 'Marco', 'Maria', 'Sofia', 'Alba'])\n",
    "gerente1.descripcion()\n"
   ]
  },
  {
   "cell_type": "code",
   "execution_count": 36,
   "metadata": {},
   "outputs": [
    {
     "data": {
      "text/plain": [
       "\"El gerente ha asignado la tarea 'Análisis de ventas' a Carlos.\""
      ]
     },
     "execution_count": 36,
     "metadata": {},
     "output_type": "execute_result"
    }
   ],
   "source": [
    "gerente1.asignar_tareas('Análisis de ventas', 'Carlos')"
   ]
  },
  {
   "cell_type": "code",
   "execution_count": 37,
   "metadata": {},
   "outputs": [
    {
     "data": {
      "text/plain": [
       "'El gerente está revisando el desempeño de Roberto.'"
      ]
     },
     "execution_count": 37,
     "metadata": {},
     "output_type": "execute_result"
    }
   ],
   "source": [
    "gerente1.revisar_desempeno_empleado('Roberto')"
   ]
  },
  {
   "cell_type": "code",
   "execution_count": 40,
   "metadata": {},
   "outputs": [
    {
     "data": {
      "text/plain": [
       "'Alba ha sido despedido por el gerente.'"
      ]
     },
     "execution_count": 40,
     "metadata": {},
     "output_type": "execute_result"
    }
   ],
   "source": [
    "gerente1.gestionar_empleados('despedir', 'Alba')"
   ]
  },
  {
   "cell_type": "code",
   "execution_count": 42,
   "metadata": {},
   "outputs": [
    {
     "data": {
      "text/plain": [
       "'Juan ha sido contratado por el gerente.'"
      ]
     },
     "execution_count": 42,
     "metadata": {},
     "output_type": "execute_result"
    }
   ],
   "source": [
    "gerente1.gestionar_empleados('contratar', 'Juan')"
   ]
  }
 ],
 "metadata": {
  "kernelspec": {
   "display_name": "base",
   "language": "python",
   "name": "python3"
  },
  "language_info": {
   "codemirror_mode": {
    "name": "ipython",
    "version": 3
   },
   "file_extension": ".py",
   "mimetype": "text/x-python",
   "name": "python",
   "nbconvert_exporter": "python",
   "pygments_lexer": "ipython3",
   "version": "3.9.7"
  }
 },
 "nbformat": 4,
 "nbformat_minor": 2
}
